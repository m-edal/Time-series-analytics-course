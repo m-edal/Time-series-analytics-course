{
 "cells": [
  {
   "cell_type": "markdown",
   "id": "34563936",
   "metadata": {},
   "source": [
    "# Assignment notebook 1\n",
    "\n",
    "<div class=\"alert alert-block alert-success\">\n",
    "<b>Objectives:</b> Construct an analytical report on how air quality in Manchester compares with other regions.  For this we will use a number of steps, all outlined in multiple sections of this notebook:\n",
    "    \n",
    "    1 - Load and merge AURN data from Manchester, Salford and another city provided in the data folder\n",
    "    2 - Generate statistics and diurnal profiles for each city.\n",
    "    3 - Compare time series, diurnal and seasonal distributions for each city.\n",
    "    4 - Generate a table of averages for each site\n",
    "    \n",
    "</div>"
   ]
  },
  {
   "cell_type": "code",
   "execution_count": null,
   "id": "c2bdaa64",
   "metadata": {},
   "outputs": [],
   "source": [
    "if 'google.colab' in str(get_ipython()):\n",
    "    \n",
    "    # Mount the Google Drive at mount\n",
    "    from google.colab import drive\n",
    "    mount='/content/gdrive'\n",
    "    print(\"Colab: mounting Google drive on \", mount)\n",
    "\n",
    "    drive.mount(mount)\n",
    "\n",
    "    # Switch to the directory on the Google Drive that you want to use\n",
    "    import os\n",
    "    from os import path\n",
    "    \n",
    "    drive_root = mount + \"/My Drive/Colab Notebooks/MPEC/Time-series-analytics-course\"\n",
    "    # Change to the directories to get data files\n",
    "    print(\"\\nColab: Changing directory to \", drive_root)\n",
    "    %cd $drive_root\n",
    "        \n",
    "else:\n",
    "    print(\"not working in Google Colab!\")"
   ]
  },
  {
   "cell_type": "markdown",
   "id": "ec08deb1",
   "metadata": {},
   "source": [
    "### 1 - Load and merge AURN data from Manchester, Salford and another city provided in the data folder\n",
    "\n",
    "In this section you will need to load and merge multiple dataframes. Prior to merging, you will need to rename some columns to make sure you know which PM2.5 column, for eexample, corresponds to which city. We provide you with the initial example for renamin columns taking from the Salford air quality site.\n",
    "\n",
    "Notice some sites do not measure all pollutants, so you will not be able to compare each city for every pollutant.\n"
   ]
  },
  {
   "cell_type": "code",
   "execution_count": null,
   "id": "7b28bcb2",
   "metadata": {},
   "outputs": [],
   "source": []
  },
  {
   "cell_type": "markdown",
   "id": "1700d901",
   "metadata": {},
   "source": [
    "### 2 - Generate statistics, diurnal and seasonal profiles for each city.\n",
    "\n",
    "With the combined dataframe created in the previous step, you can now generate the following graphs:\n",
    "\n",
    "  - a) Correlation coefficient heatmaps for each site\n",
    "      - You can do this for the entire period or by individual years\n",
    "  - b) Diurnal and monthly profile of each pollutant at each site\n",
    "      - You can do this for the entire period or by individual years\n",
    "  - c) Jointplots of key pollutants and meteorology\n",
    "  - d) Granger causality coefficients\n",
    "  "
   ]
  },
  {
   "cell_type": "code",
   "execution_count": null,
   "id": "63cf2326",
   "metadata": {},
   "outputs": [],
   "source": []
  },
  {
   "cell_type": "markdown",
   "id": "fb3c3538",
   "metadata": {},
   "source": [
    "### 3 - Compare time series, diurnal and seasonal distributions for each city.\n",
    "\n",
    "Whilst in part 3 you generated individual plots, here you plot information within the same figure for easier comparison. This can be broken down into the following components:\n",
    " - a) Histogram of each pollutant from each city; labelling the mean and standard deviations and calculating the skew\n",
    " - b) Boxplot of each pollutant by city. For this you will need to use the 'melt' function of a dataframe\n",
    "     - You can do this for the entire period or by individual years/periods\n"
   ]
  },
  {
   "cell_type": "code",
   "execution_count": null,
   "id": "24b2b46a",
   "metadata": {},
   "outputs": [],
   "source": []
  },
  {
   "cell_type": "markdown",
   "id": "6ba1c10d",
   "metadata": {},
   "source": [
<<<<<<< Updated upstream
    "### 4 - Generate a table of averages for each site\n",
=======
    "### 4 - Generate a table of average concentrations for each site\n",
>>>>>>> Stashed changes
    "\n",
    "Using the combined dataframe, calculate the following statistics for each site, using the <code> resample </code> property of a dataframe.\n",
    "\n",
    " - a) Maximum and mean hourly values for each site and pollutant\n",
    " - b) Maximum and mean daily averages for each site and pollutant\n"
   ]
  },
  {
   "cell_type": "code",
   "execution_count": null,
   "id": "127447b1",
   "metadata": {},
   "outputs": [],
   "source": []
  }
 ],
 "metadata": {
  "kernelspec": {
   "display_name": "Python 3 (ipykernel)",
   "language": "python",
   "name": "python3"
  },
  "language_info": {
   "codemirror_mode": {
    "name": "ipython",
    "version": 3
   },
   "file_extension": ".py",
   "mimetype": "text/x-python",
   "name": "python",
   "nbconvert_exporter": "python",
   "pygments_lexer": "ipython3",
<<<<<<< Updated upstream
   "version": "3.10.11"
=======
   "version": "3.9.12"
>>>>>>> Stashed changes
  }
 },
 "nbformat": 4,
 "nbformat_minor": 5
}

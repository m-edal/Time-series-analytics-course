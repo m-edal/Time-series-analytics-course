{
 "cells": [
  {
   "cell_type": "markdown",
   "id": "9e1de7f6",
   "metadata": {},
   "source": [
    "# Assignment notebook 2\n",
    "\n",
    "<div class=\"alert alert-block alert-success\">\n",
    "<b>Objectives:</b> Construct an analytical report on how air quality in Manchester changes.  For this we will use a number of steps, all outlined in multiple sections of this notebook:\n",
    "    \n",
    "    1 - Load and merge AURN and meterological reanalyis data from Manchester provided in the data folder\n",
    "    2 - Generate Partial dependency and SHAP plots for NO2 and PM2.5 in Manchester.\n",
    "    3 - Generate changepoints for weather normalised NO2 and PM2.5 data\n",
    "    \n",
    "    \n",
    "</div>"
   ]
  },
  {
   "cell_type": "markdown",
   "id": "a7309463",
   "metadata": {},
   "source": [
    "### 1 - Load and merge AURN and meterological reanalyis data from Manchester provided in the data folder\n",
    "\n",
    "In this section you will need to load and merge the AURN air quality and meteorological dataframes. This includes convering index values to datetime formats. "
   ]
  },
  {
   "cell_type": "code",
   "execution_count": null,
   "id": "fc0489f3",
   "metadata": {},
   "outputs": [],
   "source": []
  },
  {
   "cell_type": "markdown",
   "id": "b5190af6",
   "metadata": {},
   "source": [
    "### 2 - Generate Partial dependency and SHAP plots for NO2 and PM2.5 in Manchester.\n",
    "\n",
    "With the combined dataframe created in the previous step, you can load the relevant pre-trained XGBoost models and  generate the following graphs:\n",
    "\n",
    "  - a) Partial dependency plots for both NO2 and PM2.5\n",
    "      - Look at all met variables\n",
    "  - b) SHAP individual and summary plots\n",
    "      - Look at dependency between met variables for the individua plots  "
   ]
  },
  {
   "cell_type": "code",
   "execution_count": null,
   "id": "8bfe696c",
   "metadata": {},
   "outputs": [],
   "source": []
  },
  {
   "cell_type": "markdown",
   "id": "1e081647",
   "metadata": {},
   "source": [
    "### 3 - Generate changepoints for weather normalised NO2 and PM2.5 data\n",
    "\n",
    "In this section you can use the weather normalised values to evaluate whether the sliding window or Prophet method is able to detect changes around the pandemic. Using the first notebook, you should see that NO2 clearly changed but PM2.5 didnt. This can be broken down into the following steps:\n",
    "\n",
    " - a) Use a slising window method for normalised NO2 and evaluate the impact of window size on ability to detect the start of the pandemic [late March 2020]\n",
    " - b) Use Prophet to repeat the above\n",
    " - c) Use the sliding window method on weather normalised PM2.5\n"
   ]
  },
  {
   "cell_type": "code",
   "execution_count": null,
   "id": "295f14bd",
   "metadata": {},
   "outputs": [],
   "source": []
  }
 ],
 "metadata": {
  "kernelspec": {
   "display_name": "Python 3 (ipykernel)",
   "language": "python",
   "name": "python3"
  },
  "language_info": {
   "codemirror_mode": {
    "name": "ipython",
    "version": 3
   },
   "file_extension": ".py",
   "mimetype": "text/x-python",
   "name": "python",
   "nbconvert_exporter": "python",
   "pygments_lexer": "ipython3",
   "version": "3.10.9"
  }
 },
 "nbformat": 4,
 "nbformat_minor": 5
}

{
 "cells": [
  {
   "cell_type": "markdown",
   "id": "9e1de7f6",
   "metadata": {},
   "source": [
    "# Assignment notebook 2\n",
    "\n",
    "<div class=\"alert alert-block alert-success\">\n",
    "<b>Objectives:</b> Construct an analytical report on how air quality in Manchester changes.  For this we will use a number of steps, all outlined in multiple sections of this notebook:\n",
    "    \n",
    "    1 - Load and merge AURN and meterological reanalyis data from Manchester provided in the data folder\n",
    "    2 - Generate Partial dependency and SHAP plots for NO2 in Manchester.\n",
    "    3 - Generate changepoints for weather normalised NO2 data\n",
    "    \n",
    "    \n",
    "</div>"
   ]
  },
  {
   "cell_type": "code",
   "execution_count": null,
   "id": "cc54e185",
   "metadata": {},
   "outputs": [],
   "source": [
    "if 'google.colab' in str(get_ipython()):\n",
    "    \n",
    "    # Mount the Google Drive at mount\n",
    "    from google.colab import drive\n",
    "    mount='/content/gdrive'\n",
    "    print(\"Colab: mounting Google drive on \", mount)\n",
    "\n",
    "    drive.mount(mount)\n",
    "\n",
    "    # Switch to the directory on the Google Drive that you want to use\n",
    "    import os\n",
    "    from os import path\n",
    "    \n",
    "    drive_root = mount + \"/My Drive/Colab Notebooks/MPEC/Time-series-analytics-course\"\n",
    "    # Change to the directories to get data files\n",
    "    print(\"\\nColab: Changing directory to \", drive_root)\n",
    "    %cd $drive_root\n",
    "        \n",
    "else:\n",
    "    print(\"not working in Google Colab!\")"
   ]
  },
  {
   "cell_type": "markdown",
   "id": "a7309463",
   "metadata": {},
   "source": [
    "### 1 - Load and merge AURN and meterological reanalyis data from Manchester provided in the data folder\n",
    "\n",
    "In this section you will need to load and merge the AURN air quality and meteorological dataframes. This includes convering index values to datetime formats. "
   ]
  },
  {
   "cell_type": "code",
   "execution_count": null,
   "id": "fc0489f3",
   "metadata": {},
   "outputs": [],
   "source": []
  },
  {
   "cell_type": "markdown",
   "id": "b5190af6",
   "metadata": {},
   "source": [
    "### 2 - Generate Partial dependency and SHAP plots for NO2 and PM2.5 in Manchester.\n",
    "\n",
    "With the combined dataframe created in the previous step, you can load the relevant pre-trained XGBoost models and  generate the following graphs:\n",
    "\n",
    "  - a) Partial dependency plots for both NO2 and PM2.5\n",
    "      - Look at all met variables\n",
    "  - b) SHAP individual and summary plots\n",
    "      - Look at dependency between met variables for the individua plots  "
   ]
  },
  {
   "cell_type": "code",
   "execution_count": null,
   "id": "8bfe696c",
   "metadata": {},
   "outputs": [],
   "source": []
  },
  {
   "cell_type": "markdown",
   "id": "1e081647",
   "metadata": {},
   "source": [
    "### 3 - Generate changepoints for weather normalised NO2 and PM2.5 data\n",
    "\n",
    "In this section you can use the weather normalised values to evaluate whether the sliding window or Prophet method is able to detect changes around the pandemic. Using the first notebook, you should see that NO2 clearly changed but PM2.5 didnt. This can be broken down into the following steps:\n",
    "\n",
    " - a) Use a slising window method for normalised NO2 and evaluate the impact of window size on ability to detect the start of the pandemic [late March 2020]\n"
   ]
  },
  {
   "cell_type": "code",
   "execution_count": null,
   "id": "295f14bd",
   "metadata": {},
   "outputs": [],
   "source": []
  }
 ],
 "metadata": {
  "kernelspec": {
   "display_name": "Python 3 (ipykernel)",
   "language": "python",
   "name": "python3"
  },
  "language_info": {
   "codemirror_mode": {
    "name": "ipython",
    "version": 3
   },
   "file_extension": ".py",
   "mimetype": "text/x-python",
   "name": "python",
   "nbconvert_exporter": "python",
   "pygments_lexer": "ipython3",
   "version": "3.10.11"
  }
 },
 "nbformat": 4,
 "nbformat_minor": 5
}

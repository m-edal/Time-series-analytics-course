{
 "cells": [
  {
   "cell_type": "code",
   "execution_count": null,
   "id": "bf89e852-f962-44d9-b82c-7afefe776147",
   "metadata": {},
   "outputs": [],
   "source": []
  }
 ],
 "metadata": {
  "kernelspec": {
   "display_name": "",
   "name": ""
  },
  "language_info": {
   "name": ""
  }
 },
 "nbformat": 4,
 "nbformat_minor": 5
}

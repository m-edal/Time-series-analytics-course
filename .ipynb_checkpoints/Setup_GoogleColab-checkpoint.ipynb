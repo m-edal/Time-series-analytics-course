{
 "cells": [
  {
   "cell_type": "markdown",
   "id": "44153593",
   "metadata": {},
   "source": [
    "This short notebook file is used to create a folder and clone the Git repo into your Google drive so you can continually access all of the content."
   ]
  },
  {
   "cell_type": "code",
   "execution_count": null,
   "id": "b08f5ecf",
   "metadata": {},
   "outputs": [],
   "source": [
    "# Mount the Google Drive at mount\n",
    "from google.colab import drive\n",
    "mount='/content/gdrive'\n",
    "print(\"Colab: mounting Google drive on \", mount)\n",
    "\n",
    "drive.mount(mount)\n",
    "\n",
    "# Switch to the directory on the Google Drive that you want to use\n",
    "import os\n",
    "from os import path\n",
    "    \n",
    "drive_root = mount + \"/My Drive/Colab Notebooks/MPEC_bootcamp\"\n",
    "models_root = mount + \"/My Drive/Colab Notebooks/MPEC_bootcamp/Time-series-analytics-course/models\"\n",
    "\n",
    "# Create drive_root if it doesn't exist\n",
    "print(\"\\nColab: making sure \", drive_root, \" exists.\")\n",
    "if os.path.exists(drive_root):\n",
    "    shutil.rmtree(drive_root)\n",
    "os.makedirs(drive_root, exist_ok=True)\n",
    "  \n",
    "# Change to the directories to get data files\n",
    "print(\"\\nColab: Changing directory to \", drive_root)\n",
    "%cd $drive_root\n",
    "    \n",
    "!git clone https://github.com/m-edal/Time-series-analytics-course.git\n",
    "  \n",
    "%cd $models_root\n",
    "!unzip NO2_predictor_picc.json.zip\n",
    "!unzip PM_predictor_picc.json.zip"
   ]
  }
 ],
 "metadata": {
  "kernelspec": {
   "display_name": "Python 3 (ipykernel)",
   "language": "python",
   "name": "python3"
  },
  "language_info": {
   "codemirror_mode": {
    "name": "ipython",
    "version": 3
   },
   "file_extension": ".py",
   "mimetype": "text/x-python",
   "name": "python",
   "nbconvert_exporter": "python",
   "pygments_lexer": "ipython3",
   "version": "3.10.11"
  }
 },
 "nbformat": 4,
 "nbformat_minor": 5
}
